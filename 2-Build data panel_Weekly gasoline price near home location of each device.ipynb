{
 "cells": [
  {
   "cell_type": "code",
   "execution_count": 2,
   "id": "58ce3929",
   "metadata": {
    "collapsed": true,
    "execution": {
     "iopub.execute_input": "2023-07-06T17:14:36.292038Z",
     "iopub.status.busy": "2023-07-06T17:14:36.290915Z",
     "iopub.status.idle": "2023-07-06T17:16:17.789104Z",
     "shell.execute_reply": "2023-07-06T17:16:17.788280Z",
     "shell.execute_reply.started": "2023-07-06T17:14:36.291993Z"
    },
    "jupyter": {
     "outputs_hidden": true
    },
    "tags": []
   },
   "outputs": [
    {
     "data": {
      "application/vnd.jupyter.widget-view+json": {
       "model_id": "435d4f188f334d4a9544526a2de59573",
       "version_major": 2,
       "version_minor": 0
      },
      "text/plain": [
       "VBox()"
      ]
     },
     "metadata": {},
     "output_type": "display_data"
    },
    {
     "data": {
      "application/vnd.jupyter.widget-view+json": {
       "model_id": "",
       "version_major": 2,
       "version_minor": 0
      },
      "text/plain": [
       "FloatProgress(value=0.0, bar_style='info', description='Progress:', layout=Layout(height='25px', width='50%'),…"
      ]
     },
     "metadata": {},
     "output_type": "display_data"
    },
    {
     "name": "stdout",
     "output_type": "stream",
     "text": [
      "Collecting pyarrow==0.10.0\n",
      "  Using cached pyarrow-0.10.0-cp36-cp36m-manylinux1_x86_64.whl (11.6 MB)\n",
      "Requirement already satisfied: six>=1.0.0 in /usr/local/lib/python3.6/site-packages (from pyarrow==0.10.0) (1.13.0)\n",
      "Requirement already satisfied: numpy>=1.10 in /usr/local/lib64/python3.6/site-packages (from pyarrow==0.10.0) (1.14.5)\n",
      "Installing collected packages: pyarrow\n",
      "Successfully installed pyarrow-0.10.0\n",
      "\n",
      "Collecting matplotlib\n",
      "  Using cached matplotlib-3.3.4-cp36-cp36m-manylinux1_x86_64.whl (11.5 MB)\n",
      "Collecting python-dateutil>=2.1\n",
      "  Using cached python_dateutil-2.8.2-py2.py3-none-any.whl (247 kB)\n",
      "Collecting pillow>=6.2.0\n",
      "  Using cached Pillow-8.4.0-cp36-cp36m-manylinux_2_17_x86_64.manylinux2014_x86_64.whl (3.1 MB)\n",
      "Collecting numpy>=1.15\n",
      "  Using cached numpy-1.19.5-cp36-cp36m-manylinux2010_x86_64.whl (14.8 MB)\n",
      "Collecting kiwisolver>=1.0.1\n",
      "  Using cached kiwisolver-1.3.1-cp36-cp36m-manylinux1_x86_64.whl (1.1 MB)\n",
      "Collecting cycler>=0.10\n",
      "  Using cached cycler-0.11.0-py3-none-any.whl (6.4 kB)\n",
      "Collecting pyparsing!=2.0.4,!=2.1.2,!=2.1.6,>=2.0.3\n",
      "  Using cached pyparsing-3.1.0-py3-none-any.whl (102 kB)\n",
      "Requirement already satisfied: six>=1.5 in /usr/local/lib/python3.6/site-packages (from python-dateutil>=2.1->matplotlib) (1.13.0)\n",
      "Installing collected packages: python-dateutil, pyparsing, pillow, numpy, kiwisolver, cycler, matplotlib\n",
      "  Attempting uninstall: numpy\n",
      "    Found existing installation: numpy 1.14.5\n",
      "    Not uninstalling numpy at /usr/local/lib64/python3.6/site-packages, outside environment /tmp/1688663670645-0\n",
      "    Can't uninstall 'numpy'. No files were found to uninstall.\n",
      "Successfully installed cycler-0.11.0 kiwisolver-1.3.1 matplotlib-3.3.4 numpy-1.19.5 pillow-8.4.0 pyparsing-3.1.0 python-dateutil-2.8.2\n",
      "\n",
      "Collecting geopandas\n",
      "  Using cached geopandas-0.9.0-py2.py3-none-any.whl (994 kB)\n",
      "Collecting shapely>=1.6\n",
      "  Using cached Shapely-1.8.5.post1-cp36-cp36m-manylinux_2_12_x86_64.manylinux2010_x86_64.whl (2.0 MB)\n",
      "Collecting pyproj>=2.2.0\n",
      "  Using cached pyproj-3.0.1-cp36-cp36m-manylinux2010_x86_64.whl (6.5 MB)\n",
      "Collecting fiona>=1.8\n",
      "  Using cached Fiona-1.8.22-cp36-cp36m-manylinux_2_17_x86_64.manylinux2014_x86_64.whl (16.6 MB)\n",
      "Collecting pandas>=0.24.0\n",
      "  Using cached pandas-1.1.5-cp36-cp36m-manylinux1_x86_64.whl (9.5 MB)\n",
      "Collecting certifi\n",
      "  Using cached certifi-2023.5.7-py3-none-any.whl (156 kB)\n",
      "Collecting attrs>=17\n",
      "  Using cached attrs-22.2.0-py3-none-any.whl (60 kB)\n",
      "Requirement already satisfied: six>=1.7 in /usr/local/lib/python3.6/site-packages (from fiona>=1.8->geopandas) (1.13.0)\n",
      "Requirement already satisfied: setuptools in /mnt/tmp/1688663670645-0/lib/python3.6/site-packages (from fiona>=1.8->geopandas) (59.6.0)\n",
      "Collecting munch\n",
      "  Using cached munch-4.0.0-py2.py3-none-any.whl (9.9 kB)\n",
      "Collecting cligj>=0.5\n",
      "  Using cached cligj-0.7.2-py3-none-any.whl (7.1 kB)\n",
      "Collecting click>=4.0\n",
      "  Using cached click-8.0.4-py3-none-any.whl (97 kB)\n",
      "Collecting click-plugins>=1.0\n",
      "  Using cached click_plugins-1.1.1-py2.py3-none-any.whl (7.5 kB)\n",
      "Requirement already satisfied: python-dateutil>=2.7.3 in /mnt/tmp/1688663670645-0/lib/python3.6/site-packages (from pandas>=0.24.0->geopandas) (2.8.2)\n",
      "Requirement already satisfied: numpy>=1.15.4 in /mnt/tmp/1688663670645-0/lib64/python3.6/site-packages (from pandas>=0.24.0->geopandas) (1.19.5)\n",
      "Requirement already satisfied: pytz>=2017.2 in /usr/local/lib/python3.6/site-packages (from pandas>=0.24.0->geopandas) (2019.3)\n",
      "Collecting importlib-metadata\n",
      "  Using cached importlib_metadata-4.8.3-py3-none-any.whl (17 kB)\n",
      "Collecting typing-extensions>=3.6.4\n",
      "  Using cached typing_extensions-4.1.1-py3-none-any.whl (26 kB)\n",
      "Collecting zipp>=0.5\n",
      "  Using cached zipp-3.6.0-py3-none-any.whl (5.3 kB)\n",
      "Installing collected packages: zipp, typing-extensions, importlib-metadata, click, munch, cligj, click-plugins, certifi, attrs, shapely, pyproj, pandas, fiona, geopandas\n",
      "Successfully installed attrs-22.2.0 certifi-2023.5.7 click-8.0.4 click-plugins-1.1.1 cligj-0.7.2 fiona-1.8.22 geopandas-0.9.0 importlib-metadata-4.8.3 munch-4.0.0 pandas-1.1.5 pyproj-3.0.1 shapely-1.8.5.post1 typing-extensions-4.1.1 zipp-3.6.0\n",
      "\n",
      "Collecting descartes\n",
      "  Using cached descartes-1.1.0-py3-none-any.whl (5.8 kB)\n",
      "Requirement already satisfied: matplotlib in /mnt/tmp/1688663670645-0/lib64/python3.6/site-packages (from descartes) (3.3.4)\n",
      "Requirement already satisfied: python-dateutil>=2.1 in /mnt/tmp/1688663670645-0/lib/python3.6/site-packages (from matplotlib->descartes) (2.8.2)\n",
      "Requirement already satisfied: pillow>=6.2.0 in /mnt/tmp/1688663670645-0/lib64/python3.6/site-packages (from matplotlib->descartes) (8.4.0)\n",
      "Requirement already satisfied: numpy>=1.15 in /mnt/tmp/1688663670645-0/lib64/python3.6/site-packages (from matplotlib->descartes) (1.19.5)\n",
      "Requirement already satisfied: kiwisolver>=1.0.1 in /mnt/tmp/1688663670645-0/lib64/python3.6/site-packages (from matplotlib->descartes) (1.3.1)\n",
      "Requirement already satisfied: cycler>=0.10 in /mnt/tmp/1688663670645-0/lib/python3.6/site-packages (from matplotlib->descartes) (0.11.0)\n",
      "Requirement already satisfied: pyparsing!=2.0.4,!=2.1.2,!=2.1.6,>=2.0.3 in /mnt/tmp/1688663670645-0/lib/python3.6/site-packages (from matplotlib->descartes) (3.1.0)\n",
      "Requirement already satisfied: six>=1.5 in /usr/local/lib/python3.6/site-packages (from python-dateutil>=2.1->matplotlib->descartes) (1.13.0)\n",
      "Installing collected packages: descartes\n",
      "Successfully installed descartes-1.1.0\n",
      "\n",
      "Requirement already satisfied: shapely in /mnt/tmp/1688663670645-0/lib64/python3.6/site-packages (1.8.5.post1)\n",
      "\n",
      "Collecting sklearn\n",
      "  Using cached sklearn-0.0.post5-py3-none-any.whl\n",
      "Installing collected packages: sklearn\n",
      "Successfully installed sklearn-0.0.post5\n",
      "\n",
      "Collecting requests\n",
      "  Using cached requests-2.27.1-py2.py3-none-any.whl (63 kB)\n",
      "Collecting urllib3<1.27,>=1.21.1\n",
      "  Using cached urllib3-1.26.16-py2.py3-none-any.whl (143 kB)\n",
      "Collecting idna<4,>=2.5\n",
      "  Using cached idna-3.4-py3-none-any.whl (61 kB)\n",
      "Requirement already satisfied: certifi>=2017.4.17 in /mnt/tmp/1688663670645-0/lib/python3.6/site-packages (from requests) (2023.5.7)\n",
      "Collecting charset-normalizer~=2.0.0\n",
      "  Using cached charset_normalizer-2.0.12-py3-none-any.whl (39 kB)\n",
      "Installing collected packages: urllib3, idna, charset-normalizer, requests\n",
      "Successfully installed charset-normalizer-2.0.12 idna-3.4 requests-2.27.1 urllib3-1.26.16\n",
      "\n",
      "Collecting hashids\n",
      "  Using cached hashids-1.3.1-py2.py3-none-any.whl (6.6 kB)\n",
      "Installing collected packages: hashids\n",
      "Successfully installed hashids-1.3.1\n",
      "\n",
      "Collecting pandas==1.0.0\n",
      "  Using cached pandas-1.0.0-cp36-cp36m-manylinux1_x86_64.whl (10.1 MB)\n",
      "Requirement already satisfied: python-dateutil>=2.6.1 in /mnt/tmp/1688663670645-0/lib/python3.6/site-packages (from pandas==1.0.0) (2.8.2)\n",
      "Requirement already satisfied: numpy>=1.13.3 in /mnt/tmp/1688663670645-0/lib64/python3.6/site-packages (from pandas==1.0.0) (1.19.5)\n",
      "Requirement already satisfied: pytz>=2017.2 in /usr/local/lib/python3.6/site-packages (from pandas==1.0.0) (2019.3)\n",
      "Requirement already satisfied: six>=1.5 in /usr/local/lib/python3.6/site-packages (from python-dateutil>=2.6.1->pandas==1.0.0) (1.13.0)\n",
      "Installing collected packages: pandas\n",
      "  Attempting uninstall: pandas\n",
      "    Found existing installation: pandas 1.1.5\n",
      "    Uninstalling pandas-1.1.5:\n",
      "      Successfully uninstalled pandas-1.1.5\n",
      "Successfully installed pandas-1.0.0\n",
      "\n",
      "Collecting scipy\n",
      "  Using cached scipy-1.5.4-cp36-cp36m-manylinux1_x86_64.whl (25.9 MB)\n",
      "Requirement already satisfied: numpy>=1.14.5 in /mnt/tmp/1688663670645-0/lib64/python3.6/site-packages (from scipy) (1.19.5)\n",
      "Installing collected packages: scipy\n",
      "Successfully installed scipy-1.5.4\n",
      "\n",
      "Requirement already satisfied: numpy in /mnt/tmp/1688663670645-0/lib64/python3.6/site-packages (1.19.5)\n",
      "\n",
      "Collecting geopy\n",
      "  Using cached geopy-2.2.0-py3-none-any.whl (118 kB)\n",
      "Collecting geographiclib<2,>=1.49\n",
      "  Using cached geographiclib-1.52-py3-none-any.whl (38 kB)\n",
      "Installing collected packages: geographiclib, geopy\n",
      "Successfully installed geographiclib-1.52 geopy-2.2.0\n",
      "\n",
      "Requirement already satisfied: pytz in /usr/local/lib/python3.6/site-packages (2019.3)\n",
      "\n",
      "Collecting s3fs==2021.07.0\n",
      "  Using cached s3fs-2021.7.0-py3-none-any.whl (25 kB)\n",
      "Collecting aiobotocore>=1.0.1\n",
      "  Using cached aiobotocore-2.3.4-py3-none-any.whl (64 kB)\n",
      "Collecting fsspec==2021.07.0\n",
      "  Using cached fsspec-2021.7.0-py3-none-any.whl (118 kB)\n",
      "Collecting aioitertools>=0.5.1\n",
      "  Using cached aioitertools-0.11.0-py3-none-any.whl (23 kB)\n",
      "Collecting aiohttp>=3.3.1\n",
      "  Using cached aiohttp-3.8.4-cp36-cp36m-manylinux_2_17_x86_64.manylinux2014_x86_64.whl (946 kB)\n",
      "Collecting async-generator\n",
      "  Using cached async_generator-1.10-py3-none-any.whl (18 kB)\n",
      "Collecting botocore<1.24.22,>=1.24.21\n",
      "  Using cached botocore-1.24.21-py3-none-any.whl (8.6 MB)\n",
      "Collecting wrapt>=1.10.10\n",
      "  Using cached wrapt-1.15.0-cp36-cp36m-manylinux_2_5_x86_64.manylinux1_x86_64.manylinux_2_17_x86_64.manylinux2014_x86_64.whl (75 kB)\n",
      "Collecting multidict<7.0,>=4.5\n",
      "  Using cached multidict-5.2.0-cp36-cp36m-manylinux_2_5_x86_64.manylinux1_x86_64.manylinux_2_12_x86_64.manylinux2010_x86_64.whl (159 kB)\n",
      "Collecting aiosignal>=1.1.2\n",
      "  Using cached aiosignal-1.2.0-py3-none-any.whl (8.2 kB)\n",
      "Requirement already satisfied: charset-normalizer<4.0,>=2.0 in /mnt/tmp/1688663670645-0/lib/python3.6/site-packages (from aiohttp>=3.3.1->aiobotocore>=1.0.1->s3fs==2021.07.0) (2.0.12)\n",
      "Collecting frozenlist>=1.1.1\n",
      "  Using cached frozenlist-1.2.0-cp36-cp36m-manylinux_2_5_x86_64.manylinux1_x86_64.manylinux_2_12_x86_64.manylinux2010_x86_64.whl (191 kB)\n",
      "Collecting yarl<2.0,>=1.0\n",
      "  Using cached yarl-1.7.2-cp36-cp36m-manylinux_2_5_x86_64.manylinux1_x86_64.manylinux_2_12_x86_64.manylinux2010_x86_64.whl (270 kB)\n",
      "Collecting asynctest==0.13.0\n",
      "  Using cached asynctest-0.13.0-py3-none-any.whl (26 kB)\n",
      "Requirement already satisfied: typing-extensions>=3.7.4 in /mnt/tmp/1688663670645-0/lib/python3.6/site-packages (from aiohttp>=3.3.1->aiobotocore>=1.0.1->s3fs==2021.07.0) (4.1.1)\n",
      "Requirement already satisfied: attrs>=17.3.0 in /mnt/tmp/1688663670645-0/lib/python3.6/site-packages (from aiohttp>=3.3.1->aiobotocore>=1.0.1->s3fs==2021.07.0) (22.2.0)\n",
      "Collecting async-timeout<5.0,>=4.0.0a3\n",
      "  Using cached async_timeout-4.0.2-py3-none-any.whl (5.8 kB)\n",
      "Collecting idna-ssl>=1.0\n",
      "  Using cached idna_ssl-1.1.0-py3-none-any.whl\n",
      "Requirement already satisfied: jmespath<2.0.0,>=0.7.1 in /usr/local/lib/python3.6/site-packages (from botocore<1.24.22,>=1.24.21->aiobotocore>=1.0.1->s3fs==2021.07.0) (0.9.4)\n",
      "Requirement already satisfied: urllib3<1.27,>=1.25.4 in /mnt/tmp/1688663670645-0/lib/python3.6/site-packages (from botocore<1.24.22,>=1.24.21->aiobotocore>=1.0.1->s3fs==2021.07.0) (1.26.16)\n",
      "Requirement already satisfied: python-dateutil<3.0.0,>=2.1 in /mnt/tmp/1688663670645-0/lib/python3.6/site-packages (from botocore<1.24.22,>=1.24.21->aiobotocore>=1.0.1->s3fs==2021.07.0) (2.8.2)\n",
      "Requirement already satisfied: idna>=2.0 in /mnt/tmp/1688663670645-0/lib/python3.6/site-packages (from idna-ssl>=1.0->aiohttp>=3.3.1->aiobotocore>=1.0.1->s3fs==2021.07.0) (3.4)\n",
      "Requirement already satisfied: six>=1.5 in /usr/local/lib/python3.6/site-packages (from python-dateutil<3.0.0,>=2.1->botocore<1.24.22,>=1.24.21->aiobotocore>=1.0.1->s3fs==2021.07.0) (1.13.0)\n",
      "Installing collected packages: multidict, frozenlist, yarl, idna-ssl, asynctest, async-timeout, aiosignal, wrapt, botocore, async-generator, aioitertools, aiohttp, fsspec, aiobotocore, s3fs\n",
      "Successfully installed aiobotocore-2.3.4 aiohttp-3.8.4 aioitertools-0.11.0 aiosignal-1.2.0 async-generator-1.10 async-timeout-4.0.2 asynctest-0.13.0 botocore-1.24.21 frozenlist-1.2.0 fsspec-2021.7.0 idna-ssl-1.1.0 multidict-5.2.0 s3fs-2021.7.0 wrapt-1.15.0 yarl-1.7.2\n",
      "\n",
      "Collecting boto3\n",
      "  Using cached boto3-1.23.10-py3-none-any.whl (132 kB)\n",
      "Collecting botocore<1.27.0,>=1.26.10\n",
      "  Using cached botocore-1.26.10-py3-none-any.whl (8.8 MB)\n",
      "Requirement already satisfied: jmespath<2.0.0,>=0.7.1 in /usr/local/lib/python3.6/site-packages (from boto3) (0.9.4)\n",
      "Collecting s3transfer<0.6.0,>=0.5.0\n",
      "  Using cached s3transfer-0.5.2-py3-none-any.whl (79 kB)\n",
      "Requirement already satisfied: urllib3<1.27,>=1.25.4 in /mnt/tmp/1688663670645-0/lib/python3.6/site-packages (from botocore<1.27.0,>=1.26.10->boto3) (1.26.16)\n",
      "Requirement already satisfied: python-dateutil<3.0.0,>=2.1 in /mnt/tmp/1688663670645-0/lib/python3.6/site-packages (from botocore<1.27.0,>=1.26.10->boto3) (2.8.2)\n",
      "Requirement already satisfied: six>=1.5 in /usr/local/lib/python3.6/site-packages (from python-dateutil<3.0.0,>=2.1->botocore<1.27.0,>=1.26.10->boto3) (1.13.0)\n",
      "Installing collected packages: botocore, s3transfer, boto3\n",
      "  Attempting uninstall: botocore\n",
      "    Found existing installation: botocore 1.24.21\n",
      "    Uninstalling botocore-1.24.21:\n",
      "      Successfully uninstalled botocore-1.24.21\n",
      "Successfully installed boto3-1.23.10 botocore-1.26.10 s3transfer-0.5.2\n",
      "\n",
      "Collecting pygeohash\n",
      "  Using cached pygeohash-1.2.0-py2.py3-none-any.whl\n",
      "Installing collected packages: pygeohash\n",
      "Successfully installed pygeohash-1.2.0\n",
      "\n",
      "Collecting aiobotocore==1.3.3\n",
      "  Using cached aiobotocore-1.3.3-py3-none-any.whl\n",
      "Requirement already satisfied: aiohttp>=3.3.1 in /mnt/tmp/1688663670645-0/lib64/python3.6/site-packages (from aiobotocore==1.3.3) (3.8.4)\n",
      "Requirement already satisfied: aioitertools>=0.5.1 in /mnt/tmp/1688663670645-0/lib/python3.6/site-packages (from aiobotocore==1.3.3) (0.11.0)\n",
      "Requirement already satisfied: wrapt>=1.10.10 in /mnt/tmp/1688663670645-0/lib64/python3.6/site-packages (from aiobotocore==1.3.3) (1.15.0)\n",
      "Collecting botocore<1.20.107,>=1.20.106\n",
      "  Using cached botocore-1.20.106-py2.py3-none-any.whl (7.7 MB)\n",
      "Requirement already satisfied: multidict<7.0,>=4.5 in /mnt/tmp/1688663670645-0/lib64/python3.6/site-packages (from aiohttp>=3.3.1->aiobotocore==1.3.3) (5.2.0)\n",
      "Requirement already satisfied: aiosignal>=1.1.2 in /mnt/tmp/1688663670645-0/lib/python3.6/site-packages (from aiohttp>=3.3.1->aiobotocore==1.3.3) (1.2.0)\n",
      "Requirement already satisfied: charset-normalizer<4.0,>=2.0 in /mnt/tmp/1688663670645-0/lib/python3.6/site-packages (from aiohttp>=3.3.1->aiobotocore==1.3.3) (2.0.12)\n",
      "Requirement already satisfied: frozenlist>=1.1.1 in /mnt/tmp/1688663670645-0/lib64/python3.6/site-packages (from aiohttp>=3.3.1->aiobotocore==1.3.3) (1.2.0)\n",
      "Requirement already satisfied: yarl<2.0,>=1.0 in /mnt/tmp/1688663670645-0/lib64/python3.6/site-packages (from aiohttp>=3.3.1->aiobotocore==1.3.3) (1.7.2)\n",
      "Requirement already satisfied: asynctest==0.13.0 in /mnt/tmp/1688663670645-0/lib/python3.6/site-packages (from aiohttp>=3.3.1->aiobotocore==1.3.3) (0.13.0)\n",
      "Requirement already satisfied: typing-extensions>=3.7.4 in /mnt/tmp/1688663670645-0/lib/python3.6/site-packages (from aiohttp>=3.3.1->aiobotocore==1.3.3) (4.1.1)\n",
      "Requirement already satisfied: attrs>=17.3.0 in /mnt/tmp/1688663670645-0/lib/python3.6/site-packages (from aiohttp>=3.3.1->aiobotocore==1.3.3) (22.2.0)\n",
      "Requirement already satisfied: async-timeout<5.0,>=4.0.0a3 in /mnt/tmp/1688663670645-0/lib/python3.6/site-packages (from aiohttp>=3.3.1->aiobotocore==1.3.3) (4.0.2)\n",
      "Requirement already satisfied: idna-ssl>=1.0 in /mnt/tmp/1688663670645-0/lib/python3.6/site-packages (from aiohttp>=3.3.1->aiobotocore==1.3.3) (1.1.0)\n",
      "Requirement already satisfied: urllib3<1.27,>=1.25.4 in /mnt/tmp/1688663670645-0/lib/python3.6/site-packages (from botocore<1.20.107,>=1.20.106->aiobotocore==1.3.3) (1.26.16)\n",
      "Requirement already satisfied: jmespath<1.0.0,>=0.7.1 in /usr/local/lib/python3.6/site-packages (from botocore<1.20.107,>=1.20.106->aiobotocore==1.3.3) (0.9.4)\n",
      "Requirement already satisfied: python-dateutil<3.0.0,>=2.1 in /mnt/tmp/1688663670645-0/lib/python3.6/site-packages (from botocore<1.20.107,>=1.20.106->aiobotocore==1.3.3) (2.8.2)\n",
      "Requirement already satisfied: idna>=2.0 in /mnt/tmp/1688663670645-0/lib/python3.6/site-packages (from idna-ssl>=1.0->aiohttp>=3.3.1->aiobotocore==1.3.3) (3.4)\n",
      "Requirement already satisfied: six>=1.5 in /usr/local/lib/python3.6/site-packages (from python-dateutil<3.0.0,>=2.1->botocore<1.20.107,>=1.20.106->aiobotocore==1.3.3) (1.13.0)\n",
      "Installing collected packages: botocore, aiobotocore\n",
      "  Attempting uninstall: botocore\n",
      "    Found existing installation: botocore 1.26.10\n",
      "    Uninstalling botocore-1.26.10:\n",
      "      Successfully uninstalled botocore-1.26.10\n",
      "  Attempting uninstall: aiobotocore\n",
      "    Found existing installation: aiobotocore 2.3.4\n",
      "    Uninstalling aiobotocore-2.3.4:\n",
      "      Successfully uninstalled aiobotocore-2.3.4\n",
      "Successfully installed aiobotocore-1.3.3 botocore-1.20.106\n",
      "\n",
      "Collecting scikit-learn\n",
      "  Using cached scikit_learn-0.24.2-cp36-cp36m-manylinux2010_x86_64.whl (22.2 MB)\n",
      "Collecting joblib>=0.11\n",
      "  Using cached joblib-1.1.1-py2.py3-none-any.whl (309 kB)\n",
      "Requirement already satisfied: numpy>=1.13.3 in /mnt/tmp/1688663670645-0/lib64/python3.6/site-packages (from scikit-learn) (1.19.5)\n",
      "Requirement already satisfied: scipy>=0.19.1 in /mnt/tmp/1688663670645-0/lib64/python3.6/site-packages (from scikit-learn) (1.5.4)\n",
      "Collecting threadpoolctl>=2.0.0\n",
      "  Using cached threadpoolctl-3.1.0-py3-none-any.whl (14 kB)\n",
      "Installing collected packages: threadpoolctl, joblib, scikit-learn\n",
      "Successfully installed joblib-1.1.1 scikit-learn-0.24.2 threadpoolctl-3.1.0\n",
      "\n",
      "\n",
      "ERROR: pip's dependency resolver does not currently take into account all the packages that are installed. This behaviour is the source of the following dependency conflicts.\n",
      "python36-sagemaker-pyspark 1.2.6 requires pyspark==2.3.2, which is not installed.\n",
      "\n",
      "\n",
      "\n",
      "\n",
      "\n",
      "\n",
      "\n",
      "\n",
      "\n",
      "\n",
      "\n",
      "\n",
      "\n",
      "ERROR: pip's dependency resolver does not currently take into account all the packages that are installed. This behaviour is the source of the following dependency conflicts.\n",
      "aiobotocore 2.3.4 requires botocore<1.24.22,>=1.24.21, but you have botocore 1.26.10 which is incompatible.\n",
      "\n",
      "\n",
      "ERROR: pip's dependency resolver does not currently take into account all the packages that are installed. This behaviour is the source of the following dependency conflicts.\n",
      "boto3 1.23.10 requires botocore<1.27.0,>=1.26.10, but you have botocore 1.20.106 which is incompatible."
     ]
    }
   ],
   "source": [
    "sc.install_pypi_package('pyarrow==0.10.0')\n",
    "sc.install_pypi_package('matplotlib')\n",
    "sc.install_pypi_package('geopandas')\n",
    "sc.install_pypi_package('descartes')\n",
    "sc.install_pypi_package('shapely')\n",
    "sc.install_pypi_package('sklearn')\n",
    "sc.install_pypi_package('requests')\n",
    "sc.install_pypi_package('hashids')\n",
    "sc.install_pypi_package('pandas==1.0.0')\n",
    "sc.install_pypi_package('scipy')\n",
    "sc.install_pypi_package('numpy')\n",
    "sc.install_pypi_package('geopy')\n",
    "sc.install_pypi_package('pytz')\n",
    "sc.install_pypi_package('s3fs==2021.07.0')\n",
    "sc.install_pypi_package('boto3')\n",
    "sc.install_pypi_package('pygeohash')\n",
    "sc.install_pypi_package('aiobotocore==1.3.3')\n",
    "sc.install_pypi_package('scikit-learn')\n"
   ]
  },
  {
   "cell_type": "code",
   "execution_count": 4,
   "id": "722b2c87",
   "metadata": {
    "execution": {
     "iopub.execute_input": "2023-07-06T18:01:03.949022Z",
     "iopub.status.busy": "2023-07-06T18:01:03.948388Z",
     "iopub.status.idle": "2023-07-06T18:01:05.436497Z",
     "shell.execute_reply": "2023-07-06T18:01:05.435408Z",
     "shell.execute_reply.started": "2023-07-06T18:01:03.948981Z"
    },
    "tags": []
   },
   "outputs": [
    {
     "data": {
      "application/vnd.jupyter.widget-view+json": {
       "model_id": "836e29564fd048009d7842697e60fe0e",
       "version_major": 2,
       "version_minor": 0
      },
      "text/plain": [
       "VBox()"
      ]
     },
     "metadata": {},
     "output_type": "display_data"
    },
    {
     "data": {
      "application/vnd.jupyter.widget-view+json": {
       "model_id": "",
       "version_major": 2,
       "version_minor": 0
      },
      "text/plain": [
       "FloatProgress(value=0.0, bar_style='info', description='Progress:', layout=Layout(height='25px', width='50%'),…"
      ]
     },
     "metadata": {},
     "output_type": "display_data"
    }
   ],
   "source": [
    "import sys\n",
    "import os\n",
    "import pytz\n",
    "import math\n",
    "from functools import reduce\n",
    "from dateutil import tz\n",
    "import datetime\n",
    "from hashids import Hashids\n",
    "# from s3fs.core import S3FileSystem\n",
    "import shapely.geometry as sg\n",
    "from shapely.geometry import Point, Polygon, shape\n",
    "from shapely import wkt\n",
    "import shapely.speedups\n",
    "from geopy.distance import geodesic\n",
    "import geopandas as gpd\n",
    "import pandas as pd\n",
    "import numpy as np\n",
    "import time\n",
    "import cgitb\n",
    "from itertools import islice\n",
    "from pyspark import Row, SQLContext\n",
    "from pyspark.sql.types import StringType, IntegerType, FloatType, DoubleType, DecimalType, StructType, StructField\n",
    "from pyspark.sql import SparkSession, SQLContext\n",
    "from pyspark.sql.functions import row_number, rank, split, mean, hour, pandas_udf, PandasUDFType, weekofyear, udf, struct,lag, col, when, lit, first, sha1, concat, lpad, substring, regexp_replace, countDistinct,to_date,month, date_format, isnull, isnan\n",
    "import pyspark.sql.functions as SparkFunc\n",
    "from pyspark.sql.window import Window\n",
    "from pyspark import SparkContext, SparkConf\n",
    "from scipy.spatial import cKDTree as cKDTree\n",
    "from sklearn.neighbors import KDTree, BallTree\n",
    "from s3fs.core import S3FileSystem\n",
    "import boto3\n",
    "from pyspark.ml.classification import RandomForestClassifier, RandomForestClassificationModel\n",
    "from pyspark.ml.feature import VectorAssembler\n",
    "from pyspark.ml import PipelineModel\n",
    "from pyspark.sql import DataFrame\n",
    "import pygeohash as pgh\n",
    "\n",
    "sql_context = SQLContext(sc)"
   ]
  },
  {
   "cell_type": "markdown",
   "id": "262ae8ba",
   "metadata": {},
   "source": [
    "## weekly gas price"
   ]
  },
  {
   "cell_type": "code",
   "execution_count": null,
   "id": "34e55470",
   "metadata": {},
   "outputs": [],
   "source": [
    "gas_stations = spark.read.format(\"csv\").option(\"header\", \"True\").option(\"delimiter\", \",\").load(\n",
    "    '/gas_price_202101_202302.csv').filter(col(\"Latitude\").isNotNull()).withColumn(\n",
    "    \"Date\",date_format(to_date(col(\"Date\"),\"yyyy-MM-dd\"),\"MM/dd/yyyy\")).withColumn(\n",
    "    'Month', split(col('Date'), '/').getItem(0)).withColumn(\n",
    "    'Year', split(col('Date'), '/').getItem(2)).withColumn(\n",
    "    \"Week\", date_format(to_date(\"Date\", \"MM/dd/yyyy\"), \"w\")).withColumn(\n",
    "    'Price',col('Price').cast(FloatType()))\n",
    "gas_stations"
   ]
  },
  {
   "cell_type": "code",
   "execution_count": 27,
   "id": "654a6a51",
   "metadata": {},
   "outputs": [
    {
     "data": {
      "application/vnd.jupyter.widget-view+json": {
       "model_id": "1d3664b93d964bbe9dc8dfcbbed09f8b",
       "version_major": 2,
       "version_minor": 0
      },
      "text/plain": [
       "VBox()"
      ]
     },
     "metadata": {},
     "output_type": "display_data"
    },
    {
     "data": {
      "application/vnd.jupyter.widget-view+json": {
       "model_id": "",
       "version_major": 2,
       "version_minor": 0
      },
      "text/plain": [
       "FloatProgress(value=0.0, bar_style='info', description='Progress:', layout=Layout(height='25px', width='50%'),…"
      ]
     },
     "metadata": {},
     "output_type": "display_data"
    }
   ],
   "source": [
    "gas_stations.withColumn(\"Date\",date_format(to_date(col(\"Date\"),\"MM/dd/yyyy\"),\"yyyy-MM-dd\")).groupBy('Date').agg(\n",
    "    SparkFunc.avg('Price').alias('avg_gas_price')).orderBy('Date').toPandas().to_csv(\n",
    "    '/weekly_avg_gas_price.csv', index=False)"
   ]
  },
  {
   "cell_type": "markdown",
   "id": "91fc6f4d",
   "metadata": {},
   "source": [
    "## KD tree to identify gas stations within a buffer"
   ]
  },
  {
   "cell_type": "code",
   "execution_count": 32,
   "id": "5958eac2",
   "metadata": {
    "execution": {
     "iopub.execute_input": "2023-07-06T20:59:51.362105Z",
     "iopub.status.busy": "2023-07-06T20:59:51.361720Z",
     "iopub.status.idle": "2023-07-06T20:59:51.600006Z",
     "shell.execute_reply": "2023-07-06T20:59:51.597897Z",
     "shell.execute_reply.started": "2023-07-06T20:59:51.362074Z"
    },
    "tags": []
   },
   "outputs": [
    {
     "data": {
      "application/vnd.jupyter.widget-view+json": {
       "model_id": "f5f1d1f13ba846e88bf8e3ba571d50ff",
       "version_major": 2,
       "version_minor": 0
      },
      "text/plain": [
       "VBox()"
      ]
     },
     "metadata": {},
     "output_type": "display_data"
    },
    {
     "data": {
      "application/vnd.jupyter.widget-view+json": {
       "model_id": "",
       "version_major": 2,
       "version_minor": 0
      },
      "text/plain": [
       "FloatProgress(value=0.0, bar_style='info', description='Progress:', layout=Layout(height='25px', width='50%'),…"
      ]
     },
     "metadata": {},
     "output_type": "display_data"
    }
   ],
   "source": [
    "from datetime import date\n",
    "\n",
    "# week of year\n",
    "def week1_start_ordinal(year):\n",
    "    jan1 = date(year, 1, 1)\n",
    "    jan1_ordinal = jan1.toordinal()\n",
    "    jan1_weekday = jan1.weekday()\n",
    "    week1_start_ordinal = jan1_ordinal - ((jan1_weekday + 1) % 7)\n",
    "    return week1_start_ordinal\n",
    "# only consider 2022\n",
    "def week_from_date(Year, Month, Day):\n",
    "    date_object = date(Year, Month, Day)\n",
    "    date_ordinal = date_object.toordinal()\n",
    "    year = date_object.year\n",
    "    week = ((date_ordinal - week1_start_ordinal(year)) // 7) + 1\n",
    "    if week > 52:\n",
    "        if year == 2021:\n",
    "            #year += 1\n",
    "            week = 1\n",
    "    return week\n",
    "\n",
    "week_from_date_udf = udf(week_from_date, IntegerType())"
   ]
  },
  {
   "cell_type": "code",
   "execution_count": 13,
   "id": "4f1eda08",
   "metadata": {
    "execution": {
     "iopub.execute_input": "2023-07-06T20:41:13.920546Z",
     "iopub.status.busy": "2023-07-06T20:41:13.917258Z",
     "iopub.status.idle": "2023-07-06T20:41:14.117265Z",
     "shell.execute_reply": "2023-07-06T20:41:14.116280Z",
     "shell.execute_reply.started": "2023-07-06T20:41:13.920489Z"
    }
   },
   "outputs": [
    {
     "data": {
      "application/vnd.jupyter.widget-view+json": {
       "model_id": "17b57cfdb4114a568d3d3360d075087f",
       "version_major": 2,
       "version_minor": 0
      },
      "text/plain": [
       "VBox()"
      ]
     },
     "metadata": {},
     "output_type": "display_data"
    },
    {
     "data": {
      "application/vnd.jupyter.widget-view+json": {
       "model_id": "",
       "version_major": 2,
       "version_minor": 0
      },
      "text/plain": [
       "FloatProgress(value=0.0, bar_style='info', description='Progress:', layout=Layout(height='25px', width='50%'),…"
      ]
     },
     "metadata": {},
     "output_type": "display_data"
    }
   ],
   "source": [
    "### decode geohash to lat and lon\n",
    "def geohash_decode_lat(geohash7):\n",
    "    if geohash7 is not None:\n",
    "        return pgh.decode(geohash7)[0]\n",
    "    \n",
    "geohash_decode_lat_udf = udf(geohash_decode_lat, FloatType())\n",
    "\n",
    "def geohash_decode_long(geohash7):\n",
    "    if geohash7 is not None:\n",
    "        return pgh.decode(geohash7)[1]\n",
    "    \n",
    "geohash_decode_long_udf = udf(geohash_decode_long, FloatType())"
   ]
  },
  {
   "cell_type": "code",
   "execution_count": 14,
   "id": "d9857e75",
   "metadata": {
    "execution": {
     "iopub.execute_input": "2023-07-06T20:41:14.891096Z",
     "iopub.status.busy": "2023-07-06T20:41:14.890763Z",
     "iopub.status.idle": "2023-07-06T20:41:15.334167Z",
     "shell.execute_reply": "2023-07-06T20:41:15.332881Z",
     "shell.execute_reply.started": "2023-07-06T20:41:14.891069Z"
    }
   },
   "outputs": [
    {
     "data": {
      "application/vnd.jupyter.widget-view+json": {
       "model_id": "4b65dbf9c2f44acd9f0809dc43f654ae",
       "version_major": 2,
       "version_minor": 0
      },
      "text/plain": [
       "VBox()"
      ]
     },
     "metadata": {},
     "output_type": "display_data"
    },
    {
     "data": {
      "application/vnd.jupyter.widget-view+json": {
       "model_id": "",
       "version_major": 2,
       "version_minor": 0
      },
      "text/plain": [
       "FloatProgress(value=0.0, bar_style='info', description='Progress:', layout=Layout(height='25px', width='50%'),…"
      ]
     },
     "metadata": {},
     "output_type": "display_data"
    }
   ],
   "source": [
    "#transformation of geo coordinate system\n",
    "@pandas_udf('float',PandasUDFType.SCALAR)\n",
    "def lng_to_meters(longitude):\n",
    "    if longitude is not None:\n",
    "        origin_shift = np.pi * 6378137\n",
    "        easting = longitude * origin_shift / 180.0\n",
    "        return easting\n",
    "@pandas_udf('float',PandasUDFType.SCALAR)\n",
    "def lat_to_meters(latitude):\n",
    "    if latitude is not None:\n",
    "        origin_shift = np.pi * 6378137\n",
    "        northing = np.log(np.tan((90 + latitude) * np.pi / 360.0)) * origin_shift / np.pi\n",
    "        return  northing"
   ]
  },
  {
   "cell_type": "code",
   "execution_count": 33,
   "id": "fcf8e20d",
   "metadata": {
    "execution": {
     "iopub.execute_input": "2023-07-06T20:59:55.187445Z",
     "iopub.status.busy": "2023-07-06T20:59:55.184958Z",
     "iopub.status.idle": "2023-07-06T21:00:00.994865Z",
     "shell.execute_reply": "2023-07-06T21:00:00.993949Z",
     "shell.execute_reply.started": "2023-07-06T20:59:55.187402Z"
    },
    "tags": []
   },
   "outputs": [
    {
     "data": {
      "application/vnd.jupyter.widget-view+json": {
       "model_id": "72bb4716d19747b791c05abe627f1041",
       "version_major": 2,
       "version_minor": 0
      },
      "text/plain": [
       "VBox()"
      ]
     },
     "metadata": {},
     "output_type": "display_data"
    },
    {
     "data": {
      "application/vnd.jupyter.widget-view+json": {
       "model_id": "",
       "version_major": 2,
       "version_minor": 0
      },
      "text/plain": [
       "FloatProgress(value=0.0, bar_style='info', description='Progress:', layout=Layout(height='25px', width='50%'),…"
      ]
     },
     "metadata": {},
     "output_type": "display_data"
    },
    {
     "name": "stdout",
     "output_type": "stream",
     "text": [
      "DataFrame[Date: string, Station ID: string, Latitude: string, Longitude: string, Price: float, Gas Brand: string, Month: int, Day: int, Year: int, Week: int]"
     ]
    }
   ],
   "source": [
    "gas_stations = spark.read.format(\"csv\").option(\"header\", \"True\").option(\"delimiter\", \",\").load(\n",
    "    '/gas_price_202101_202302.csv').filter(col(\"Latitude\").isNotNull()).withColumn(\n",
    "    \"Date\",date_format(to_date(col(\"Date\"),\"yyyy-MM-dd\"),\"MM/dd/yyyy\")).withColumn(\n",
    "    'Month', split(col('Date'), '/').getItem(0).cast(IntegerType())).withColumn(\n",
    "    'Day', split(col('Date'), '/').getItem(1).cast(IntegerType())).withColumn(\n",
    "    'Year', split(col('Date'), '/').getItem(2).cast(IntegerType())).withColumn(\n",
    "    \"Week\", week_from_date_udf(col(\"Year\"), col(\"Month\"), col(\"Day\"))).withColumn(\n",
    "    'Price',col('Price').cast(FloatType())).filter((col(\"Year\") == 2022) | ((col(\"Year\") == 2021) & (col(\"Week\") == 1)))\n",
    "gas_stations"
   ]
  },
  {
   "cell_type": "code",
   "execution_count": 34,
   "id": "5dbc57d0-9d09-4d95-806f-b8e022bfefee",
   "metadata": {
    "execution": {
     "iopub.execute_input": "2023-07-06T21:00:00.999625Z",
     "iopub.status.busy": "2023-07-06T21:00:00.999312Z",
     "iopub.status.idle": "2023-07-06T21:00:51.538429Z",
     "shell.execute_reply": "2023-07-06T21:00:51.537572Z",
     "shell.execute_reply.started": "2023-07-06T21:00:00.999597Z"
    },
    "tags": []
   },
   "outputs": [
    {
     "data": {
      "application/vnd.jupyter.widget-view+json": {
       "model_id": "07df1ae21c7f40549bfa97bd6f3ceece",
       "version_major": 2,
       "version_minor": 0
      },
      "text/plain": [
       "VBox()"
      ]
     },
     "metadata": {},
     "output_type": "display_data"
    },
    {
     "data": {
      "application/vnd.jupyter.widget-view+json": {
       "model_id": "",
       "version_major": 2,
       "version_minor": 0
      },
      "text/plain": [
       "FloatProgress(value=0.0, bar_style='info', description='Progress:', layout=Layout(height='25px', width='50%'),…"
      ]
     },
     "metadata": {},
     "output_type": "display_data"
    },
    {
     "name": "stdout",
     "output_type": "stream",
     "text": [
      "+----------+----------+-----------+------------+-----+---------+-----+---+----+----+\n",
      "|      Date|Station ID|   Latitude|   Longitude|Price|Gas Brand|Month|Day|Year|Week|\n",
      "+----------+----------+-----------+------------+-----+---------+-----+---+----+----+\n",
      "|12/26/2021|    623483|38.91129558|-77.01066949|3.372|    Exxon|   12| 26|2021|   1|\n",
      "|12/26/2021|    292229|38.91407013|-77.01608276|3.386|    Exxon|   12| 26|2021|   1|\n",
      "|12/26/2021|    489982|38.91365882|-77.01731475|3.316| Marathon|   12| 26|2021|   1|\n",
      "|12/26/2021|    623380|38.91337917|-77.01813239|3.375|   Valero|   12| 26|2021|   1|\n",
      "|12/26/2021|    444106|38.90776661| -77.0236775|3.599|   Sunoco|   12| 26|2021|   1|\n",
      "|12/26/2021|    489980|38.92666018|-77.02622062|3.599|   Sunoco|   12| 26|2021|   1|\n",
      "|12/26/2021|    298560|38.90111558|-76.98307067|3.315|    Mobil|   12| 26|2021|   1|\n",
      "|12/26/2021|    560313|38.89540373| -77.0032514|4.299|    Exxon|   12| 26|2021|   1|\n",
      "|12/26/2021|    608841|38.91672501|-76.98117103|3.296|    Exxon|   12| 26|2021|   1|\n",
      "|12/26/2021|    305267|38.90095116|-76.98528902|3.313|    Exxon|   12| 26|2021|   1|\n",
      "|12/26/2021|    119851|38.91695801| -76.9722213|3.322|    Exxon|   12| 26|2021|   1|\n",
      "|12/26/2021|    489987|38.90981299|-77.00725625| 3.39|    Mobil|   12| 26|2021|   1|\n",
      "|12/26/2021|    641544|38.91064877|-76.98525703|3.259|   Valero|   12| 26|2021|   1|\n",
      "|12/26/2021|    489988|38.90662306|-76.99865823|3.308| Marathon|   12| 26|2021|   1|\n",
      "|12/26/2021|    489985|38.89881939| -76.9744124|3.313|    Mobil|   12| 26|2021|   1|\n",
      "|12/26/2021|    613493|38.91454433|-76.98901881|3.286|    Mobil|   12| 26|2021|   1|\n",
      "|12/26/2021|    641643|38.90748141|-76.97829493|3.259|   Valero|   12| 26|2021|   1|\n",
      "|12/26/2021|    489986|38.91764258|-76.97115987|3.272|       BP|   12| 26|2021|   1|\n",
      "|12/26/2021|    314316|38.91766232|-76.97289348|3.279|    Exxon|   12| 26|2021|   1|\n",
      "|12/26/2021|    539846|38.91690388|-76.97918236|3.322|    Shell|   12| 26|2021|   1|\n",
      "+----------+----------+-----------+------------+-----+---------+-----+---+----+----+\n",
      "only showing top 20 rows"
     ]
    }
   ],
   "source": [
    "gas_stations.show()"
   ]
  },
  {
   "cell_type": "code",
   "execution_count": 39,
   "id": "079f27a7",
   "metadata": {
    "execution": {
     "iopub.execute_input": "2023-07-06T21:03:12.154518Z",
     "iopub.status.busy": "2023-07-06T21:03:12.154077Z",
     "iopub.status.idle": "2023-07-06T21:03:12.404793Z",
     "shell.execute_reply": "2023-07-06T21:03:12.403825Z",
     "shell.execute_reply.started": "2023-07-06T21:03:12.154486Z"
    }
   },
   "outputs": [
    {
     "data": {
      "application/vnd.jupyter.widget-view+json": {
       "model_id": "f96b575f09f2408a9380e30ee84ca4b6",
       "version_major": 2,
       "version_minor": 0
      },
      "text/plain": [
       "VBox()"
      ]
     },
     "metadata": {},
     "output_type": "display_data"
    },
    {
     "data": {
      "application/vnd.jupyter.widget-view+json": {
       "model_id": "",
       "version_major": 2,
       "version_minor": 0
      },
      "text/plain": [
       "FloatProgress(value=0.0, bar_style='info', description='Progress:', layout=Layout(height='25px', width='50%'),…"
      ]
     },
     "metadata": {},
     "output_type": "display_data"
    }
   ],
   "source": [
    "spark.conf.set(\"spark.sql.broadcastTimeout\" ,\"-1\")"
   ]
  },
  {
   "cell_type": "code",
   "execution_count": null,
   "id": "94c9cce8",
   "metadata": {
    "execution": {
     "iopub.execute_input": "2023-07-06T21:08:19.596472Z",
     "iopub.status.busy": "2023-07-06T21:08:19.596137Z"
    },
    "tags": []
   },
   "outputs": [
    {
     "data": {
      "application/vnd.jupyter.widget-view+json": {
       "model_id": "83028fb36d50484693eba462ab236f54",
       "version_major": 2,
       "version_minor": 0
      },
      "text/plain": [
       "VBox()"
      ]
     },
     "metadata": {},
     "output_type": "display_data"
    },
    {
     "data": {
      "application/vnd.jupyter.widget-view+json": {
       "model_id": "76aa5a0083bb484ea0efced5d50c0977",
       "version_major": 2,
       "version_minor": 0
      },
      "text/plain": [
       "FloatProgress(value=0.0, bar_style='info', description='Progress:', layout=Layout(height='25px', width='50%'),…"
      ]
     },
     "metadata": {},
     "output_type": "display_data"
    }
   ],
   "source": [
    "year = 2022\n",
    "\n",
    "for month in range(1,13):\n",
    "    if month == 2:\n",
    "        num_days = 28\n",
    "    elif month in [4,6,9,11]:\n",
    "        num_days = 30\n",
    "    else:\n",
    "        num_days = 31\n",
    "    #device list with geohash of home and work location\n",
    "    WMA_device_list_month = spark.read.format(\"csv\").option(\"header\", \"True\").option(\"delimiter\", \",\").load(\n",
    "        '/device_list/WMA_device_list_%s%02d.csv' % (year, month))\n",
    "    #decode to lat and lon\n",
    "    WMA_device_list_month = WMA_device_list_month.withColumn(\n",
    "        'home_lat', geohash_decode_lat_udf(col('h_geohash'))).withColumn(\n",
    "        'home_long', geohash_decode_long_udf(col('h_geohash'))).withColumn(\n",
    "        'work_lat', geohash_decode_lat_udf(col('w_geohash'))).withColumn(\n",
    "        'work_long', geohash_decode_long_udf(col('w_geohash')))\n",
    "    #transfer to x and y\n",
    "    WMA_device_list_month = WMA_device_list_month.withColumn(\n",
    "        'X_h', lng_to_meters(WMA_device_list_month.home_long)).withColumn(\n",
    "        'Y_h', lat_to_meters(WMA_device_list_month.home_lat)).withColumn(\n",
    "        'X_w', lng_to_meters(WMA_device_list_month.work_long)).withColumn(\n",
    "        'Y_w', lat_to_meters(WMA_device_list_month.work_lat))\n",
    "    \n",
    "    for weekofyear in range(week_from_date(year, month, 1), week_from_date(year, month, num_days)+1):\n",
    "        #gas_stations filter & integration\n",
    "        gas_stations_weekly = gas_stations.filter(col('Week')== weekofyear)\n",
    "        gas_stations_weekly = gas_stations_weekly.withColumn(\n",
    "            'gas_station_x', lng_to_meters(gas_stations_weekly.Longitude.cast(FloatType()))).withColumn(\n",
    "            'gas_station_y', lat_to_meters(gas_stations_weekly.Latitude.cast(FloatType())))\n",
    "        gas_stations_weekly = gas_stations_weekly.toPandas()\n",
    "        \n",
    "        #kd tree\n",
    "        gas_stations_weekly_kdtree = KDTree(gas_stations_weekly[['gas_station_x','gas_station_y']])\n",
    "        gas_stations_weekly_kdtree_bc = sc.broadcast(gas_stations_weekly_kdtree)\n",
    "        gas_stations_weekly_bc = sc.broadcast(gas_stations_weekly)\n",
    "        \n",
    "        WMA_device_gas_weekly = WMA_device_list_month.select('device_id')\n",
    "\n",
    "        for dis in range(2,6):\n",
    "\n",
    "            # Function to find the gas stations within a certain distance\n",
    "            @pandas_udf(\n",
    "                'device_id string, X_h float, Y_h float, X_w float, Y_w float, h_gs_count_%smi integer, \\\n",
    "                h_gs_avg_price_%smi float, w_gs_count_%smi integer, w_gs_avg_price_%smi float' % (dis, dis, dis, dis), \n",
    "                PandasUDFType.GROUPED_MAP)\n",
    "            def gas_station_identify(pdf):\n",
    "                gas_station_ind_h = gas_stations_weekly_kdtree_bc.value.query_radius(\n",
    "                    np.array(pdf.loc[:,['X_h','Y_h']]), r=dis*1609.344)\n",
    "                #number of gasoline stations\n",
    "                pdf['h_gs_count_%smi' % dis] = len(gas_station_ind_h[0])\n",
    "                #average gasoline price\n",
    "                if len(gas_station_ind_h) != 0:\n",
    "                    pdf['h_gs_avg_price_%smi' % dis] = gas_stations_weekly_bc.value.loc[gas_station_ind_h[0].reshape(\n",
    "                        1, gas_station_ind_h[0].shape[0]).tolist()[0],'Price'].reset_index(drop=True).mean()\n",
    "    \n",
    "                if math.isnan(pdf.loc[:,'X_w']) == False:\n",
    "                    gas_station_ind_w = gas_stations_weekly_kdtree_bc.value.query_radius(\n",
    "                        np.array(pdf.loc[:,['X_w','Y_w']]), r=dis*1609.344)\n",
    "                    pdf['w_gs_count_%smi' % dis] = len(gas_station_ind_w[0])\n",
    "                    \n",
    "                    if len(gas_station_ind_w) != 0:\n",
    "                        pdf['w_gs_avg_price_%smi' % dis] = gas_stations_weekly_bc.value.loc[gas_station_ind_w[0].reshape(\n",
    "                            1, gas_station_ind_w[0].shape[0]).tolist()[0],'Price'].reset_index(drop=True).mean()\n",
    "                else:\n",
    "                    pdf['w_gs_count_%smi' % dis] = float(\"nan\")\n",
    "                    pdf['w_gs_avg_price_%smi' % dis] = float(\"nan\")        \n",
    "    \n",
    "                return pdf\n",
    "    \n",
    "            WMA_device_gas_weekly_bydis = WMA_device_list_month.select(\n",
    "                'device_id','X_h','Y_h','X_w','Y_w').groupby('device_id').apply(gas_station_identify) \n",
    "    \n",
    "\n",
    "            WMA_device_gas_weekly = WMA_device_gas_weekly.join(WMA_device_gas_weekly_bydis.drop('X_h','Y_h','X_w','Y_w'), \n",
    "                                                               on = 'device_id', how = 'inner')\n",
    "    \n",
    "        WMA_device_gas_weekly.toPandas().to_csv(\n",
    "            '/WMA_device_gas_week%02d_%s%02d.csv' % (\n",
    "                weekofyear, year, month), index=False)"
   ]
  },
  {
   "cell_type": "code",
   "execution_count": null,
   "id": "f077a50a",
   "metadata": {},
   "outputs": [],
   "source": []
  }
 ],
 "metadata": {
  "kernelspec": {
   "display_name": "Python 3 (ipykernel)",
   "language": "python",
   "name": "python3"
  },
  "language_info": {
   "codemirror_mode": {
    "name": "ipython",
    "version": 3
   },
   "file_extension": ".py",
   "mimetype": "text/x-python",
   "name": "python",
   "nbconvert_exporter": "python",
   "pygments_lexer": "ipython3",
   "version": "3.10.11"
  }
 },
 "nbformat": 4,
 "nbformat_minor": 5
}
